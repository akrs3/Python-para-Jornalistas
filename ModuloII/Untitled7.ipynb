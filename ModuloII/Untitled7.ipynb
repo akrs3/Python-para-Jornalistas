{
 "cells": [
  {
   "cell_type": "code",
   "execution_count": 1,
   "metadata": {},
   "outputs": [
    {
     "name": "stdout",
     "output_type": "stream",
     "text": [
      "ANNE\n"
     ]
    }
   ],
   "source": [
    "nome = 'Anne'\n",
    "print(nome.upper())"
   ]
  },
  {
   "cell_type": "code",
   "execution_count": 3,
   "metadata": {},
   "outputs": [
    {
     "name": "stdout",
     "output_type": "stream",
     "text": [
      "Help on built-in function lower:\n",
      "\n",
      "lower(...) method of builtins.str instance\n",
      "    S.lower() -> str\n",
      "    \n",
      "    Return a copy of the string S converted to lowercase.\n",
      "\n"
     ]
    }
   ],
   "source": [
    "help(nome.lower)"
   ]
  },
  {
   "cell_type": "code",
   "execution_count": 4,
   "metadata": {},
   "outputs": [
    {
     "name": "stdout",
     "output_type": "stream",
     "text": [
      "Anne\n"
     ]
    }
   ],
   "source": [
    "print(nome)"
   ]
  },
  {
   "cell_type": "code",
   "execution_count": 5,
   "metadata": {},
   "outputs": [
    {
     "name": "stdout",
     "output_type": "stream",
     "text": [
      "Anne\n"
     ]
    }
   ],
   "source": [
    "print(nome.strip())"
   ]
  },
  {
   "cell_type": "code",
   "execution_count": null,
   "metadata": {},
   "outputs": [],
   "source": [
    "nome += ' Kelly'\n",
    "print(nome)"
   ]
  },
  {
   "cell_type": "code",
   "execution_count": 13,
   "metadata": {},
   "outputs": [
    {
     "ename": "SyntaxError",
     "evalue": "invalid syntax (<ipython-input-13-f231f23b7f79>, line 4)",
     "output_type": "error",
     "traceback": [
      "\u001b[0;36m  File \u001b[0;32m\"<ipython-input-13-f231f23b7f79>\"\u001b[0;36m, line \u001b[0;32m4\u001b[0m\n\u001b[0;31m    print(f'Voce digitou: {nome}.')\u001b[0m\n\u001b[0m                                 ^\u001b[0m\n\u001b[0;31mSyntaxError\u001b[0m\u001b[0;31m:\u001b[0m invalid syntax\n"
     ]
    }
   ],
   "source": [
    "nome = input('Digite seu nome e sobrenome:')\n",
    "nome = nome.strip()\n",
    "nome = nome.title()\n",
    "print(f'Voce digitou: {nome}.')"
   ]
  },
  {
   "cell_type": "code",
   "execution_count": 38,
   "metadata": {},
   "outputs": [
    {
     "name": "stdout",
     "output_type": "stream",
     "text": [
      "Anne Kelly é mulher.\n",
      "Lidiane Monteiro é mulher.\n",
      "Raira Oliveira é mulher.\n",
      "Mateus Castro é homem.\n",
      "Esdras Rodrigues é homem.\n",
      "Rubson Lima nao sei.\n",
      "Carmen Miranda nao sei.\n"
     ]
    }
   ],
   "source": [
    "#nomes = input('Insira os nomes separados por virgula:')\n",
    "nomes2 = '''ANNE Kelly\n",
    "Lidiane Monteiro\n",
    "RAIRA Oliveira\n",
    "Mateus Castro\n",
    "Esdras Rodrigues\n",
    "Rubson Lima\n",
    "Carmen Miranda''' #String 1 tem 3 linhas \n",
    "\n",
    "lista_de_nomes  = nomes.split(',') #separa a string dada em varias as strings pela ,\n",
    "lista_de_nomes2 = nomes2.splitlines() #separa a string dada em varias as strings pelo ENTER\n",
    "\n",
    "for nome_completo in lista_de_nomes2:\n",
    "    nome_completo = nome_completo.strip().title()\n",
    "    primeiro_nome = nome_completo.split(' ')[0]\n",
    "    if (primeiro_nome.endswith('o') | primeiro_nome.endswith('s')):\n",
    "        print(nome_completo + ' é homem.')\n",
    "    elif (primeiro_nome.endswith('a') | primeiro_nome.endswith('e')):\n",
    "        print(nome_completo + ' é mulher.')\n",
    "    else:\n",
    "        print(nome_completo + ' nao sei.')\n",
    "        "
   ]
  },
  {
   "cell_type": "code",
   "execution_count": null,
   "metadata": {},
   "outputs": [],
   "source": []
  }
 ],
 "metadata": {
  "kernelspec": {
   "display_name": "Python 3",
   "language": "python",
   "name": "python3"
  }
 },
 "nbformat": 4,
 "nbformat_minor": 2
}
