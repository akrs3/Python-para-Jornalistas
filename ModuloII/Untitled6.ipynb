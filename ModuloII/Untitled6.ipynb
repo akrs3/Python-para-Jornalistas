{
 "cells": [
  {
   "cell_type": "code",
   "execution_count": 4,
   "metadata": {},
   "outputs": [
    {
     "name": "stdout",
     "output_type": "stream",
     "text": [
      "Novo lider do ranking eh:Magno Malta\n",
      "Novo lider do ranking eh:Major Olimpio\n",
      "Novo lider do ranking eh:Jair Bolsonaro\n",
      "Novo lider do ranking eh:Pastor Feliciano\n",
      "Novo lider do ranking eh:Pastor Feliciano\n",
      "Novo lider do ranking eh:Fernando Francischini\n",
      "Novo lider do ranking eh:João Doria\n",
      "Novo lider do ranking eh:Ronaldo Caiado\n",
      "Novo lider do ranking eh:Pastor Feliciano\n",
      "Novo lider do ranking eh:Pastor Feliciano\n",
      "Chefe, quem bombou mesmo foi o Pastor Feliciano, o post dele teve 361796. Voce pode ler o post neste link: https://www.facebook.com/PastorMarcoFeliciano/videos/1132373336902684/\n"
     ]
    },
    {
     "data": {
      "text/plain": [
       "[]"
      ]
     },
     "execution_count": 4,
     "metadata": {},
     "output_type": "execute_result"
    }
   ],
   "source": [
    "import csv\n",
    "import collections\n",
    "\n",
    "arquivo = open('politicos_outubro.csv',encoding='utf-8')\n",
    "dicionario = csv.DictReader(arquivo)\n",
    "\n",
    "total_posts = collections.Counter()\n",
    "compartilhamentos_top = 0\n",
    "link_top = ''\n",
    "politico_topzera = ''\n",
    "\n",
    "arquivo_saida = open('politicos_tops.csv', encoding = 'utf-8',mode='w')\n",
    "escritor = csv.writer(arquivo_saida, lineterminator = '\\n')\n",
    "escritor.writerow(['comp_top','link_top','politico_topzera', 'shares_atual','teste','anne kelly'])\n",
    "\n",
    "for linha in dicionario:\n",
    "    #politico = linha['nome']\n",
    "    #total_posts[politico] += 1\n",
    "    escritor.writerow([compartilhamentos_top, link_top, politico_topzera, linha['shares']])\n",
    "    \n",
    "    if int(linha['shares']) > compartilhamentos_top: #num copartilhamento atual > num MAX compartilhamentos ate agroa\n",
    "        compartilhamentos_top = int(linha['shares']) #link do post bombado\n",
    "        link_top = linha['fb_link']\n",
    "        politico_topzera = linha['nome']\n",
    "        \n",
    "        escritor.writerow([compartilhamentos_top, link_top, politico_topzera, linha['shares']])\n",
    "        print('Novo lider do ranking eh:' + str(politico_topzera))\n",
    "\n",
    "print('Chefe, quem bombou mesmo foi o ' + str(politico_topzera) + ', o post dele teve ' + str(compartilhamentos_top) + '. Voce pode ler o post neste link: ' + str(link_top))\n",
    "total_posts.most_common()\n",
    "    "
   ]
  },
  {
   "cell_type": "code",
   "execution_count": null,
   "metadata": {},
   "outputs": [],
   "source": []
  }
 ],
 "metadata": {
  "kernelspec": {
   "display_name": "Python 3",
   "language": "python",
   "name": "python3"
  },
  "language_info": {
   "codemirror_mode": {
    "name": "ipython",
    "version": 3
   },
   "file_extension": ".py",
   "mimetype": "text/x-python",
   "name": "python",
   "nbconvert_exporter": "python",
   "pygments_lexer": "ipython3",
   "version": "3.4.2"
  }
 },
 "nbformat": 4,
 "nbformat_minor": 2
}
