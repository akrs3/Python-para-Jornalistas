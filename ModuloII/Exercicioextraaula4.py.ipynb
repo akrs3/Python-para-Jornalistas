{
 "cells": [
  {
   "cell_type": "code",
   "execution_count": 23,
   "metadata": {},
   "outputs": [],
   "source": [
    "import csv\n",
    "import collections\n",
    "\n",
    "arquivo = open('brasil.csv', encoding='utf8') #abrindo arquido leitura\n",
    "populacao = collections.Counter() #cria contador vazio\n",
    "area = collections.Counter() # criar contador vazio para area\n",
    "densidade = collections.Counter()\n",
    "\n",
    "#contafem a partir do CSV\n",
    "#for registro in csv.DictReader(arquivo):\n",
    "#    populacao[registro['estado']] += int(registro['habitantes'])\n",
    "\n",
    "#contafem a partir do CSV\n",
    "for registro in csv.DictReader(arquivo):\n",
    "    area[registro['estado']] += float(registro['area'])\n",
    "    populacao[registro['estado']] += int(registro['habitantes'])\n",
    "    densidade[registro['estado']] = populacao[registro['estado']] / area[registro['estado']]\n",
    "\n",
    "#exibicao da contagem\n",
    "#for estado, habitantes in populacao.most_common(10):\n",
    "#    print('O estado ' + str(estado) + ' possui ' + str(habitantes) + ' habitantes.')\n",
    "\n",
    "#criando arquivo de saida\n",
    "arquivo_saida = open('densidade.csv', mode='w', encoding='utf8')\n",
    "escritor = csv.writer(arquivo_saida, lineterminator = '\\n')\n",
    "escritor.writerow(['Estado', 'Habitantes', 'Área', 'Densidade'])\n",
    "for registro['estado'], densidade in densidade.most_common():\n",
    "    escritor.writerow([registro['estado'], populacao[registro['estado']], area[registro['estado']], densidade])\n",
    "\n",
    "arquivo_saida.close()\n",
    "    "
   ]
  },
  {
   "cell_type": "code",
   "execution_count": null,
   "metadata": {},
   "outputs": [],
   "source": []
  }
 ],
 "metadata": {
  "kernelspec": {
   "display_name": "Python 3",
   "language": "python",
   "name": "python3"
  },
  "language_info": {
   "codemirror_mode": {
    "name": "ipython",
    "version": 3
   },
   "file_extension": ".py",
   "mimetype": "text/x-python",
   "name": "python",
   "nbconvert_exporter": "python",
   "pygments_lexer": "ipython3",
   "version": "3.4.2"
  }
 },
 "nbformat": 4,
 "nbformat_minor": 2
}
