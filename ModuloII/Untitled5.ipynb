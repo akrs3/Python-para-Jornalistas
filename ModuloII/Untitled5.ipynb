{
 "cells": [
  {
   "cell_type": "code",
   "execution_count": 3,
   "metadata": {},
   "outputs": [],
   "source": [
    "import csv\n",
    "import collections\n",
    "\n",
    "arquivo = open('brasil.csv', encoding='utf8') #abrindo arquido leitura\n",
    "populacao = collections.Counter() #cria contador vazio\n",
    "\n",
    "#contafem a partir do CSV\n",
    "for registro in csv.DictReader(arquivo):\n",
    "    populacao[registro['estado']] += int(registro['habitantes'])\n",
    "    \n",
    "#exibicao da contagem\n",
    "#for estado, habitantes in populacao.most_common(10):\n",
    "#    print('O estado ' + str(estado) + ' possui ' + str(habitantes) + ' habitantes.')\n",
    "\n",
    "#criando arquivo de saida\n",
    "arquivo_saida = open('estadooos.csv', mode='w', encoding='utf-8')\n",
    "escritor = csv.writer(arquivo_saida, lineterminator ='\\n')\n",
    "escritor.writerow(['estado', 'habitantes'])\n",
    "\n",
    "for estado, habitantes in populacao.most_common():\n",
    "    escritor.writerow([estado, habitantes])\n",
    "\n",
    "arquivo_saida.close()"
   ]
  },
  {
   "cell_type": "code",
   "execution_count": null,
   "metadata": {},
   "outputs": [],
   "source": []
  }
 ],
 "metadata": {
  "kernelspec": {
   "display_name": "Python 3",
   "language": "python",
   "name": "python3"
  }
 },
 "nbformat": 4,
 "nbformat_minor": 2
}
