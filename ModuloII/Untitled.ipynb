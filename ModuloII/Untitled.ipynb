{
 "cells": [
  {
   "cell_type": "code",
   "execution_count": 17,
   "metadata": {},
   "outputs": [
    {
     "name": "stdout",
     "output_type": "stream",
     "text": [
      "Qual o estado desejado?CE\n",
      "8452381\n"
     ]
    }
   ],
   "source": [
    "import csv\n",
    "\n",
    "populacao = 0\n",
    "estado_desejado = input('Qual o estado desejado?')\n",
    "estado_desejado = estado_desejado.upper()\n",
    "\n",
    "arquivo = open('brasil.csv', encoding='utf8')\n",
    "for registro in csv.reader(arquivo):\n",
    "    habitantes = registro[2]\n",
    "    estado = registro[0]\n",
    "    \n",
    "    if estado == estado_desejado:\n",
    "        populacao += int(habitantes) # a = a + b / a+= b\n",
    "        #print(registro)\n",
    "print(populacao)\n",
    "               "
   ]
  },
  {
   "cell_type": "code",
   "execution_count": null,
   "metadata": {},
   "outputs": [],
   "source": []
  },
  {
   "cell_type": "code",
   "execution_count": null,
   "metadata": {},
   "outputs": [],
   "source": []
  }
 ],
 "metadata": {
  "kernelspec": {
   "display_name": "Python 3",
   "language": "python",
   "name": "python3"
  },
  "language_info": {
   "codemirror_mode": {
    "name": "ipython",
    "version": 3
   },
   "file_extension": ".py",
   "mimetype": "text/x-python",
   "name": "python",
   "nbconvert_exporter": "python",
   "pygments_lexer": "ipython3",
   "version": "3.4.2"
  }
 },
 "nbformat": 4,
 "nbformat_minor": 2
}
