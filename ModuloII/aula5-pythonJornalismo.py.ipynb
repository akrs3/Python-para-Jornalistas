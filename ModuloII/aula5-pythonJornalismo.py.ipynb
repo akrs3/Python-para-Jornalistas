{
 "cells": [
  {
   "cell_type": "code",
   "execution_count": 25,
   "metadata": {},
   "outputs": [],
   "source": [
    "ID_do_aplicativo = '195401734345824'\n",
    "chave_secreta = '3dac0a478ec081db56610f72c7517fbf'\n",
    "token = ID_do_aplicativo + '|' + chave_secreta\n",
    "'195401734345824|'\n",
    "pagina = 'nytimes'\n",
    "fields = 'name'\n",
    "#url = 'https://graph.facebook.com/v2.11/' + str(pagina) + '?access_token=' + str(token)\n"
   ]
  },
  {
   "cell_type": "code",
   "execution_count": 26,
   "metadata": {},
   "outputs": [],
   "source": [
    "knight = {\n",
    "   \"name\": \"Knight Center for Journalism in the Americas\",\n",
    "   \"id\": \"48853626794\"\n",
    "}\n"
   ]
  },
  {
   "cell_type": "code",
   "execution_count": 27,
   "metadata": {},
   "outputs": [
    {
     "name": "stdout",
     "output_type": "stream",
     "text": [
      "https://graph.facebook.com/v2.11/name,id&access_token=195401734345824|3dac0a478ec081db56610f72c7517fbf\n"
     ]
    }
   ],
   "source": [
    "#url = 'https://graph.facebook.com/v2.11/' + str(pagina) + '?fields=' + str(fields) + '&access_token=' + str(token)\n",
    "print(url)"
   ]
  },
  {
   "cell_type": "code",
   "execution_count": null,
   "metadata": {},
   "outputs": [],
   "source": []
  }
 ],
 "metadata": {
  "kernelspec": {
   "display_name": "Python 3",
   "language": "python",
   "name": "python3"
  },
  "language_info": {
   "codemirror_mode": {
    "name": "ipython",
    "version": 3
   },
   "file_extension": ".py",
   "mimetype": "text/x-python",
   "name": "python",
   "nbconvert_exporter": "python",
   "pygments_lexer": "ipython3",
   "version": "3.4.2"
  }
 },
 "nbformat": 4,
 "nbformat_minor": 2
}
