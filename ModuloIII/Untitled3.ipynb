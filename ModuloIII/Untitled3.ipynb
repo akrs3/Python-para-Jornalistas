{
 "cells": [
  {
   "cell_type": "code",
   "execution_count": 1,
   "metadata": {},
   "outputs": [
    {
     "name": "stdout",
     "output_type": "stream",
     "text": [
      "https://graph.facebook.com/v2.11/nytimes?access_token=195401734345824|3dac0a478ec081db56610f72c7517fbf\n"
     ]
    }
   ],
   "source": [
    "ID_do_aplicativo = '195401734345824'\n",
    "chave_secreta = '3dac0a478ec081db56610f72c7517fbf'\n",
    "token = ID_do_aplicativo + '|' + chave_secreta\n",
    "pagina = 'nytimes'\n",
    "url = 'https://graph.facebook.com/v2.11/' + str(pagina) + '?access_token=' + str(token)\n",
    "print(url)"
   ]
  },
  {
   "cell_type": "code",
   "execution_count": 7,
   "metadata": {},
   "outputs": [],
   "source": [
    "import tweepy\n",
    "\n",
    "consumer_key = ''\n",
    "consumer_secret = ''\n",
    "access_token = ''\n",
    "access_token_secret = ''\n",
    "auth = tweepy.OAuthHandler(consumer_key, consumer_secret)\n",
    "auth.set_access_token(access_token,access_token_secret)\n",
    "api = tweepy.API(auth)"
   ]
  },
  {
   "cell_type": "code",
   "execution_count": null,
   "metadata": {
    "scrolled": true
   },
   "outputs": [],
   "source": [
    "anne = api.get_user('nytimes')._json"
   ]
  },
  {
   "cell_type": "code",
   "execution_count": null,
   "metadata": {},
   "outputs": [],
   "source": [
    "anne['followers_count']"
   ]
  },
  {
   "cell_type": "code",
   "execution_count": 10,
   "metadata": {},
   "outputs": [],
   "source": [
    "jornais_no_twitter = ['folha','estadao','jornalglobo','zerohora']"
   ]
  },
  {
   "cell_type": "code",
   "execution_count": 11,
   "metadata": {},
   "outputs": [],
   "source": [
    "def seguidores(usuario_no_twitter):\n",
    "    consulta_api = api.get_user(usuario_no_twitter)._json\n",
    "    seguidores = consulta_api['followers_count']\n",
    "    return seguidores"
   ]
  },
  {
   "cell_type": "code",
   "execution_count": null,
   "metadata": {},
   "outputs": [],
   "source": [
    "seguidores['anne']"
   ]
  },
  {
   "cell_type": "code",
   "execution_count": null,
   "metadata": {},
   "outputs": [],
   "source": [
    "for jornal in jornais_no_twitter:\n",
    "    numero = seguidores(jornal)\n",
    "    frase = 'O usuario ' + jornal + ' tem ' + numero + ' seguidores no Twitter.'\n",
    "    print(frase)"
   ]
  },
  {
   "cell_type": "code",
   "execution_count": null,
   "metadata": {},
   "outputs": [],
   "source": []
  }
 ],
 "metadata": {
  "kernelspec": {
   "display_name": "Python 3",
   "language": "python",
   "name": "python3"
  },
  "language_info": {
   "codemirror_mode": {
    "name": "ipython",
    "version": 3
   },
   "file_extension": ".py",
   "mimetype": "text/x-python",
   "name": "python",
   "nbconvert_exporter": "python",
   "pygments_lexer": "ipython3",
   "version": "3.4.2"
  }
 },
 "nbformat": 4,
 "nbformat_minor": 2
}
