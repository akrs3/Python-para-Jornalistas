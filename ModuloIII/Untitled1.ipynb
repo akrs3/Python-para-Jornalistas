{
 "cells": [
  {
   "cell_type": "code",
   "execution_count": 10,
   "metadata": {},
   "outputs": [
    {
     "name": "stdout",
     "output_type": "stream",
     "text": [
      "Olá Kelly\n"
     ]
    }
   ],
   "source": [
    "def hello(nome):\n",
    "    #nome = input('Digite aqui seu nome:')\n",
    "    print('Olá ' + nome)\n",
    "hello('Kelly')"
   ]
  },
  {
   "cell_type": "code",
   "execution_count": null,
   "metadata": {},
   "outputs": [],
   "source": [
    "hello()"
   ]
  },
  {
   "cell_type": "code",
   "execution_count": null,
   "metadata": {},
   "outputs": [],
   "source": [
    "print(len('Anne'))\n",
    "hello()"
   ]
  },
  {
   "cell_type": "code",
   "execution_count": 45,
   "metadata": {},
   "outputs": [
    {
     "name": "stdout",
     "output_type": "stream",
     "text": [
      "Digite seu nome:Lena Anne Sabrina Joyce\n",
      "Olá Lena Anne Sabrina Joyce\n"
     ]
    }
   ],
   "source": [
    "seu_nome = input ('Digite seu nome:')\n",
    "hello(seu_nome)"
   ]
  },
  {
   "cell_type": "code",
   "execution_count": 53,
   "metadata": {},
   "outputs": [
    {
     "name": "stdout",
     "output_type": "stream",
     "text": [
      "Lena Anne Sabrina Joyce\n"
     ]
    },
    {
     "data": {
      "text/plain": [
       "'Lena'"
      ]
     },
     "execution_count": 53,
     "metadata": {},
     "output_type": "execute_result"
    }
   ],
   "source": [
    "def primeiro_nome(nome_completo):\n",
    "    nome_completo = nome_completo.strip().title()\n",
    "    print(nome_completo)\n",
    "    primeiro = nome_completo.split(' ')[0]\n",
    "    return primeiro\n"
   ]
  },
  {
   "cell_type": "code",
   "execution_count": 21,
   "metadata": {},
   "outputs": [
    {
     "name": "stdout",
     "output_type": "stream",
     "text": [
      "Digite seu nome:Lena\n"
     ]
    }
   ],
   "source": [
    "nome = input('Digite seu nome:')"
   ]
  },
  {
   "cell_type": "code",
   "execution_count": 23,
   "metadata": {},
   "outputs": [],
   "source": [
    "def genero(nome_completo):\n",
    "    if primeiro_nome(nome_completo).endswith('o'):\n",
    "        return 'masculino'\n",
    "    elif primeiro_nome(nome_completo).endswith('a'):\n",
    "        return 'feminino'\n",
    "    else:\n",
    "        return 'nao sei'\n",
    "        "
   ]
  },
  {
   "cell_type": "code",
   "execution_count": 26,
   "metadata": {},
   "outputs": [
    {
     "name": "stdout",
     "output_type": "stream",
     "text": [
      "feminino\n",
      "masculino\n"
     ]
    }
   ],
   "source": [
    "print(genero('Anna Kelly'))\n",
    "print(genero('Paulo'))"
   ]
  },
  {
   "cell_type": "code",
   "execution_count": 30,
   "metadata": {},
   "outputs": [
    {
     "name": "stdout",
     "output_type": "stream",
     "text": [
      "Anna Kelly é do genero feminino\n",
      "Paulo Vinicius é do genero masculino\n",
      "Ailton Junior é do genero nao sei\n",
      "Monnyque Bulhoes é do genero nao sei\n"
     ]
    }
   ],
   "source": [
    "nomes = ['Anna Kelly', 'Paulo Vinicius', 'Ailton Junior', 'Monnyque Bulhoes']\n",
    "for nome in nomes:\n",
    "    print(nome + ' é do genero ' + genero(nome))"
   ]
  },
  {
   "cell_type": "code",
   "execution_count": null,
   "metadata": {},
   "outputs": [],
   "source": []
  }
 ],
 "metadata": {
  "kernelspec": {
   "display_name": "Python 3",
   "language": "python",
   "name": "python3"
  },
  "language_info": {
   "codemirror_mode": {
    "name": "ipython",
    "version": 3
   },
   "file_extension": ".py",
   "mimetype": "text/x-python",
   "name": "python",
   "nbconvert_exporter": "python",
   "pygments_lexer": "ipython3",
   "version": "3.4.2"
  }
 },
 "nbformat": 4,
 "nbformat_minor": 2
}
