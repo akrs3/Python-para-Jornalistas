{
 "cells": [
  {
   "cell_type": "code",
   "execution_count": 5,
   "metadata": {},
   "outputs": [
    {
     "name": "stdout",
     "output_type": "stream",
     "text": [
      "Bruna\n",
      "Joyce\n",
      "Lua\n",
      "Monnyque\n"
     ]
    }
   ],
   "source": [
    "nomes = ['Joyce', 'Lua', 'Monnyque', 'Lua', 'Bruna', 'Monnyque']\n",
    "sem_repeticao = []\n",
    "\n",
    "for nome in nomes:\n",
    "    if not nome in sem_repeticao:\n",
    "        sem_repeticao.append(nome)\n",
    "        \n",
    "sem_repeticao.sort()\n",
    "for nome in sem_repeticao:\n",
    "    print(nome)"
   ]
  },
  {
   "cell_type": "code",
   "execution_count": 6,
   "metadata": {},
   "outputs": [
    {
     "name": "stdout",
     "output_type": "stream",
     "text": [
      "Bruna\n",
      "Joyce\n",
      "Lua\n",
      "Monnyque\n"
     ]
    }
   ],
   "source": [
    "sem_repeticao = set() #SET() ja pega sem repeticao\n",
    "\n",
    "for nome in nomes:\n",
    "    sem_repeticao.add(nome)\n",
    "    \n",
    "for nome in sorted(sem_repeticao): #um set nao tem a funcao sort(), mas tem a sorted()\n",
    "    print(nome)"
   ]
  },
  {
   "cell_type": "code",
   "execution_count": 7,
   "metadata": {},
   "outputs": [
    {
     "name": "stdout",
     "output_type": "stream",
     "text": [
      "Bruna\n",
      "Joyce\n",
      "Lua\n",
      "Monnyque\n"
     ]
    }
   ],
   "source": [
    "sem_repeticao = set(nomes) #ja pega sem repeticao\n",
    "    \n",
    "for nome in sorted(sem_repeticao): #um set nao tem a funcao sort(), mas tem a sorted()\n",
    "    print(nome)"
   ]
  },
  {
   "cell_type": "code",
   "execution_count": 8,
   "metadata": {},
   "outputs": [
    {
     "name": "stdout",
     "output_type": "stream",
     "text": [
      "Help on built-in function keys:\n",
      "\n",
      "keys(...) method of builtins.dict instance\n",
      "    D.keys() -> a set-like object providing a view on D's keys\n",
      "\n"
     ]
    }
   ],
   "source": [
    "dicionario = {}\n",
    "help(dicionario.keys)"
   ]
  },
  {
   "cell_type": "code",
   "execution_count": 15,
   "metadata": {},
   "outputs": [
    {
     "name": "stdout",
     "output_type": "stream",
     "text": [
      "idade: 22\n",
      "nome: Anne\n",
      "sobrenome: Kelly\n",
      "nome: Anne\n"
     ]
    }
   ],
   "source": [
    "pessoa = {'nome': 'Anne', 'idade': 22}\n",
    "for chave, valor in pessoa.items():\n",
    "    print(str(chave) + ': ' + str(valor))\n",
    "    \n",
    "pessoa['sobrenome'] = 'Kelly'\n",
    "del pessoa['idade']\n",
    "for chave, valor in pessoa.items():\n",
    "    print(str(chave) + ': ' + str(valor))"
   ]
  },
  {
   "cell_type": "code",
   "execution_count": 18,
   "metadata": {},
   "outputs": [
    {
     "name": "stdout",
     "output_type": "stream",
     "text": [
      "{}\n",
      "{'nome': 'Anne', 'genero': 'feminino'}\n",
      "{'nome': 'Sabrina', 'genero': 'feminino'}\n",
      "{'nome': 'Amanda', 'genero': 'feminino'}\n",
      "{'nome': 'Alana', 'genero': 'feminino'}\n"
     ]
    }
   ],
   "source": [
    "nomes = ['Anne','Sabrina', 'Amanda','Alana']\n",
    "lista_dicionarios = [{}]\n",
    "for nome in nomes:\n",
    "    dicionario = {'nome':nome, 'genero':'feminino'}\n",
    "    lista_dicionarios.append(dicionario)\n",
    "    \n",
    "print(lista_dicio)"
   ]
  },
  {
   "cell_type": "code",
   "execution_count": null,
   "metadata": {},
   "outputs": [],
   "source": []
  }
 ],
 "metadata": {
  "kernelspec": {
   "display_name": "Python 3",
   "language": "python",
   "name": "python3"
  },
  "language_info": {
   "codemirror_mode": {
    "name": "ipython",
    "version": 3
   },
   "file_extension": ".py",
   "mimetype": "text/x-python",
   "name": "python",
   "nbconvert_exporter": "python",
   "pygments_lexer": "ipython3",
   "version": "3.4.2"
  }
 },
 "nbformat": 4,
 "nbformat_minor": 2
}
