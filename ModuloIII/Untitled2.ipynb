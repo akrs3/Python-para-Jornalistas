{
 "cells": [
  {
   "cell_type": "code",
   "execution_count": 58,
   "metadata": {},
   "outputs": [],
   "source": [
    "import csv\n",
    "\n",
    "#Importa arquivo csv base\n",
    "arquivo = open('politicos_outubro.csv',encoding='utf-8')\n",
    "sem_repeticao = []\n",
    "\n",
    "#define as funcoes primeiro nome e genero\n",
    "def primeiro_nome(nome_completo):\n",
    "    nome_completo = nome_completo.strip().title()\n",
    "    primeiro = nome_completo.split(' ')[0]\n",
    "    return primeiro\n",
    "\n",
    "def genero(nome_completo):\n",
    "    prim_nome = primeiro_nome(nome_completo)\n",
    "    if prim_nome.endswith('o') | prim_nome.endswith('s') | prim_nome.endswith('m'):\n",
    "        return 'masculino'\n",
    "    elif prim_nome.endswith('a') | prim_nome.endswith('si'):\n",
    "        return 'feminino'\n",
    "    else:\n",
    "        return 'nao sei'\n"
   ]
  },
  {
   "cell_type": "code",
   "execution_count": 59,
   "metadata": {},
   "outputs": [],
   "source": [
    "#Guardar nomes dos politicos, sem repeticao\n",
    "for registro in csv.DictReader(arquivo):\n",
    "    if not registro['nome'] in sem_repeticao:\n",
    "        sem_repeticao.append(str(registro['nome']))\n",
    "    "
   ]
  },
  {
   "cell_type": "code",
   "execution_count": 60,
   "metadata": {},
   "outputs": [],
   "source": [
    "#Criar arquivo de saida e colocar o nome dos campos\n",
    "arquivo_saida = open('politicos_genero',mode='w',encoding='utf-8')\n",
    "escritor = csv.writer(arquivo_saida, lineterminator= '\\n')\n",
    "escritor.writerow(['Nome','Genero'])\n",
    "\n",
    "#Preencher o arquvio de saida com Nomes e Generos\n",
    "for nome in sorted(sem_repeticao):\n",
    "    gen = genero(nome)\n",
    "    escritor.writerow([nome,gen])\n",
    "\n",
    "arquivo_saida.close()"
   ]
  },
  {
   "cell_type": "code",
   "execution_count": null,
   "metadata": {},
   "outputs": [],
   "source": []
  }
 ],
 "metadata": {
  "kernelspec": {
   "display_name": "Python 3",
   "language": "python",
   "name": "python3"
  },
  "language_info": {
   "codemirror_mode": {
    "name": "ipython",
    "version": 3
   },
   "file_extension": ".py",
   "mimetype": "text/x-python",
   "name": "python",
   "nbconvert_exporter": "python",
   "pygments_lexer": "ipython3",
   "version": "3.4.2"
  }
 },
 "nbformat": 4,
 "nbformat_minor": 2
}
