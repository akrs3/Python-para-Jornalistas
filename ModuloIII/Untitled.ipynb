{
 "cells": [
  {
   "cell_type": "code",
   "execution_count": 5,
   "metadata": {},
   "outputs": [
    {
     "ename": "IndexError",
     "evalue": "list index out of range",
     "output_type": "error",
     "traceback": [
      "\u001b[0;31m---------------------------------------------------------------------------\u001b[0m",
      "\u001b[0;31mIndexError\u001b[0m                                Traceback (most recent call last)",
      "\u001b[0;32m<ipython-input-5-cb3f01e25b9b>\u001b[0m in \u001b[0;36m<module>\u001b[0;34m()\u001b[0m\n\u001b[1;32m      1\u001b[0m \u001b[0mnum\u001b[0m \u001b[0;34m=\u001b[0m \u001b[0;34m[\u001b[0m\u001b[0;36m13\u001b[0m\u001b[0;34m,\u001b[0m\u001b[0;36m12\u001b[0m\u001b[0;34m,\u001b[0m\u001b[0;36m1995\u001b[0m\u001b[0;34m,\u001b[0m\u001b[0;36m10\u001b[0m\u001b[0;34m,\u001b[0m\u001b[0;36m11\u001b[0m\u001b[0;34m,\u001b[0m\u001b[0;36m1973\u001b[0m\u001b[0;34m]\u001b[0m\u001b[0;34m\u001b[0m\u001b[0m\n\u001b[0;32m----> 2\u001b[0;31m \u001b[0mprint\u001b[0m\u001b[0;34m(\u001b[0m\u001b[0mnum\u001b[0m\u001b[0;34m[\u001b[0m\u001b[0;36m8\u001b[0m\u001b[0;34m]\u001b[0m\u001b[0;34m)\u001b[0m\u001b[0;34m\u001b[0m\u001b[0m\n\u001b[0m",
      "\u001b[0;31mIndexError\u001b[0m: list index out of range"
     ]
    }
   ],
   "source": [
    "num = [13,12,1995,10,11,1973]\n",
    "print(num[8])"
   ]
  },
  {
   "cell_type": "code",
   "execution_count": null,
   "metadata": {},
   "outputs": [
    {
     "name": "stdout",
     "output_type": "stream",
     "text": [
      "Anfibio\n",
      "Anne\n",
      "Crush 1\n",
      "Lidy\n",
      "Raira\n",
      "Sapao\n",
      "Seleciona: Anne\n"
     ]
    }
   ],
   "source": [
    "import random\n",
    "\n",
    "#Define-se a lista de jogadores\n",
    "jogadores = ['Anne', 'Raira', 'Lidy', 'Crush 1', 'Sapao', 'Anfibio']\n",
    "\n",
    "#Mostrar em ordem alfabetica\n",
    "jogadores.sort()\n",
    "for jogador in jogadores:\n",
    "    print(jogador)\n",
    "    \n",
    "selecionado = random.choice(jogadores)\n",
    "\n",
    "print('Seleciona: ' + selecionado)\n",
    "\n",
    "opcoes = ['pera','uva', 'maca', 'salada mista']\n",
    "#opcoes2 = ('pera','uva', 'maca', 'salada mista') # TUPLA = lista imutavel\n",
    "resposta = input(selecionado + ', qual opcao vc escolhe?')\n",
    "\n",
    "if resposta in opcoes:\n",
    "    #selecionar felizardo\n",
    "    jogadores.remove(selecionado)\n",
    "    felizardo = random.choice(jogadores)\n",
    "    jogadores.append(selecionado)\n",
    "    \n",
    "    if resposta == 'pera':\n",
    "        print(selecionado + ', de a mao a ' + felizardo)\n",
    "    elif resposta == 'uva':\n",
    "        print(selecionado + ', de um abraco em ' + felizardo)\n",
    "    elif resposta == 'maca':\n",
    "        print(selecionado + ', de um beijo no rosto de ' + felizardo)\n",
    "    elif resposta == 'salada mista':\n",
    "        print('Beija, beija, beija' + felizardo)\n",
    "        \n",
    "else:\n",
    "    print(selecionado + ', voce nao sabe jogar Salada Mista?!')\n",
    "\n"
   ]
  },
  {
   "cell_type": "code",
   "execution_count": null,
   "metadata": {},
   "outputs": [],
   "source": []
  }
 ],
 "metadata": {
  "kernelspec": {
   "display_name": "Python 3",
   "language": "python",
   "name": "python3"
  },
  "language_info": {
   "codemirror_mode": {
    "name": "ipython",
    "version": 3
   },
   "file_extension": ".py",
   "mimetype": "text/x-python",
   "name": "python",
   "nbconvert_exporter": "python",
   "pygments_lexer": "ipython3",
   "version": "3.4.2"
  }
 },
 "nbformat": 4,
 "nbformat_minor": 2
}
